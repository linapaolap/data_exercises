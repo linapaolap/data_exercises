{
  "nbformat": 4,
  "nbformat_minor": 0,
  "metadata": {
    "colab": {
      "provenance": [],
      "authorship_tag": "ABX9TyOuUTjXEugKDYebDZaHOf6E",
      "include_colab_link": true
    },
    "kernelspec": {
      "name": "python3",
      "display_name": "Python 3"
    },
    "language_info": {
      "name": "python"
    }
  },
  "cells": [
    {
      "cell_type": "markdown",
      "metadata": {
        "id": "view-in-github",
        "colab_type": "text"
      },
      "source": [
        "<a href=\"https://colab.research.google.com/github/linapaolap/linapaolap/blob/main/ejercicio_limpieza.ipynb\" target=\"_parent\"><img src=\"https://colab.research.google.com/assets/colab-badge.svg\" alt=\"Open In Colab\"/></a>"
      ]
    },
    {
      "cell_type": "markdown",
      "source": [
        "Importando librerías y guardando nuestro dataset en una variable. "
      ],
      "metadata": {
        "id": "-Arb-ki1Fjz2"
      }
    },
    {
      "cell_type": "code",
      "execution_count": null,
      "metadata": {
        "id": "WXA0yp1H9z1w"
      },
      "outputs": [],
      "source": [
        "import pandas as pd\n",
        "import matplotlib.pyplot as plt\n",
        "import seaborn as sns"
      ]
    },
    {
      "cell_type": "code",
      "source": [
        "df = pd.read_csv(\"https://docs.google.com/spreadsheets/d/1DjrIHvas8Z5XOEID0y_xynbt-eaKMcG2/export?format=csv\")"
      ],
      "metadata": {
        "id": "4KrqTxb6-Lmf"
      },
      "execution_count": null,
      "outputs": []
    },
    {
      "cell_type": "markdown",
      "source": [
        "# **SOBRE EL SET DE DATOS**\n",
        "\n",
        "Corresponde a los lugares de producción de energía solar más grandes del planeta.\n",
        "\n",
        "Posee las siguientes columnas\n",
        "1. **Name:** El nombre de esta planta solar. Dato tipo String\n",
        "2. **Country:** País de ubicación de dicha planta. Dato tipo String.\n",
        "3. **MegawattsCapacity**: Capacidad de energía que es capaz de producir. Dato númerico. \n",
        "4. **Acres**: Medida agraria de superficie del sistema anglosajón que equivale a 4046 metros cuadrados.\n",
        "5. **Sq Mi**: Extensión de la planta en millas. Dato númerico.\n",
        "6. **Sq Km**: Extensión de la planta en kilómetros. Dato númerico.\n",
        "7. **Yer(Year)**: Año en que fue culminada su construcción. Dato tipo String. \n",
        "8. **Type:** Tipo de planta conforme a su paisaje. "
      ],
      "metadata": {
        "id": "L8IRLlqwuMfn"
      }
    },
    {
      "cell_type": "markdown",
      "source": [
        "# LIMPIEZA DE DATOS"
      ],
      "metadata": {
        "id": "v2478DUD_VBZ"
      }
    },
    {
      "cell_type": "markdown",
      "source": [
        "Antes de analizar, manipular y visualizar datos, es importante en primera \n",
        "medida realizar una limpieza de estos. Esto corresponde a eliminar datos \n",
        "idénticos, a corregir errores tipógraficos que duplican o hasta triplican las categorías halladas en una columna y suman *arrows* innesarias a nuestro set, también de datos númericos anormales y fuera de sentido (*por ejemplo, que en el set haya alguien con edad de 200 años*), o simplemente la intrusión de caracteres especiales que empañen la debida presentación y escritura de un dato."
      ],
      "metadata": {
        "id": "JWWO6jiHwA9O"
      }
    },
    {
      "cell_type": "markdown",
      "source": [
        "*Primer método*: \n",
        "\n",
        "```\n",
        ".head() \n",
        "\n",
        "```\n",
        "Permite conocer las primeras filas de nuestro set, en el parámetro () podemos pasar el número de filas que deseamos ver, sin embargo, si no pasamos ninguna, po defecto mostrará las primeras 5 filas del set. Veamos si decidimos solo ver las 3 primeras filas:\n"
      ],
      "metadata": {
        "id": "WrA75zDVxcP9"
      }
    },
    {
      "cell_type": "code",
      "source": [
        "df.head(3)"
      ],
      "metadata": {
        "colab": {
          "base_uri": "https://localhost:8080/",
          "height": 143
        },
        "id": "-0NMqiBm_Y6X",
        "outputId": "f4aefed4-0368-4e67-9093-3aa2cbb03b98"
      },
      "execution_count": null,
      "outputs": [
        {
          "output_type": "execute_result",
          "data": {
            "text/plain": [
              "                                   Name Country  Sq Mi  Sq Km  \\\n",
              "0                   Bhadla Solar ParkQ@   India   21.0   54.4   \n",
              "1  Huanghe Hydropower Hainan Solar Park   China    2.2    5.7   \n",
              "2                   Pavagada Solar Park   India   20.3   52.6   \n",
              "\n",
              "   MegawattsCapacity  Acres   yer  Type  \n",
              "0               2245  14000  2020  Park  \n",
              "1               2200   1408  2020  Park  \n",
              "2               2050  13000  2019  Park  "
            ],
            "text/html": [
              "\n",
              "  <div id=\"df-26d3b3f1-13c5-4e86-a0d3-6262f40d034f\">\n",
              "    <div class=\"colab-df-container\">\n",
              "      <div>\n",
              "<style scoped>\n",
              "    .dataframe tbody tr th:only-of-type {\n",
              "        vertical-align: middle;\n",
              "    }\n",
              "\n",
              "    .dataframe tbody tr th {\n",
              "        vertical-align: top;\n",
              "    }\n",
              "\n",
              "    .dataframe thead th {\n",
              "        text-align: right;\n",
              "    }\n",
              "</style>\n",
              "<table border=\"1\" class=\"dataframe\">\n",
              "  <thead>\n",
              "    <tr style=\"text-align: right;\">\n",
              "      <th></th>\n",
              "      <th>Name</th>\n",
              "      <th>Country</th>\n",
              "      <th>Sq Mi</th>\n",
              "      <th>Sq Km</th>\n",
              "      <th>MegawattsCapacity</th>\n",
              "      <th>Acres</th>\n",
              "      <th>yer</th>\n",
              "      <th>Type</th>\n",
              "    </tr>\n",
              "  </thead>\n",
              "  <tbody>\n",
              "    <tr>\n",
              "      <th>0</th>\n",
              "      <td>Bhadla Solar ParkQ@</td>\n",
              "      <td>India</td>\n",
              "      <td>21.0</td>\n",
              "      <td>54.4</td>\n",
              "      <td>2245</td>\n",
              "      <td>14000</td>\n",
              "      <td>2020</td>\n",
              "      <td>Park</td>\n",
              "    </tr>\n",
              "    <tr>\n",
              "      <th>1</th>\n",
              "      <td>Huanghe Hydropower Hainan Solar Park</td>\n",
              "      <td>China</td>\n",
              "      <td>2.2</td>\n",
              "      <td>5.7</td>\n",
              "      <td>2200</td>\n",
              "      <td>1408</td>\n",
              "      <td>2020</td>\n",
              "      <td>Park</td>\n",
              "    </tr>\n",
              "    <tr>\n",
              "      <th>2</th>\n",
              "      <td>Pavagada Solar Park</td>\n",
              "      <td>India</td>\n",
              "      <td>20.3</td>\n",
              "      <td>52.6</td>\n",
              "      <td>2050</td>\n",
              "      <td>13000</td>\n",
              "      <td>2019</td>\n",
              "      <td>Park</td>\n",
              "    </tr>\n",
              "  </tbody>\n",
              "</table>\n",
              "</div>\n",
              "      <button class=\"colab-df-convert\" onclick=\"convertToInteractive('df-26d3b3f1-13c5-4e86-a0d3-6262f40d034f')\"\n",
              "              title=\"Convert this dataframe to an interactive table.\"\n",
              "              style=\"display:none;\">\n",
              "        \n",
              "  <svg xmlns=\"http://www.w3.org/2000/svg\" height=\"24px\"viewBox=\"0 0 24 24\"\n",
              "       width=\"24px\">\n",
              "    <path d=\"M0 0h24v24H0V0z\" fill=\"none\"/>\n",
              "    <path d=\"M18.56 5.44l.94 2.06.94-2.06 2.06-.94-2.06-.94-.94-2.06-.94 2.06-2.06.94zm-11 1L8.5 8.5l.94-2.06 2.06-.94-2.06-.94L8.5 2.5l-.94 2.06-2.06.94zm10 10l.94 2.06.94-2.06 2.06-.94-2.06-.94-.94-2.06-.94 2.06-2.06.94z\"/><path d=\"M17.41 7.96l-1.37-1.37c-.4-.4-.92-.59-1.43-.59-.52 0-1.04.2-1.43.59L10.3 9.45l-7.72 7.72c-.78.78-.78 2.05 0 2.83L4 21.41c.39.39.9.59 1.41.59.51 0 1.02-.2 1.41-.59l7.78-7.78 2.81-2.81c.8-.78.8-2.07 0-2.86zM5.41 20L4 18.59l7.72-7.72 1.47 1.35L5.41 20z\"/>\n",
              "  </svg>\n",
              "      </button>\n",
              "      \n",
              "  <style>\n",
              "    .colab-df-container {\n",
              "      display:flex;\n",
              "      flex-wrap:wrap;\n",
              "      gap: 12px;\n",
              "    }\n",
              "\n",
              "    .colab-df-convert {\n",
              "      background-color: #E8F0FE;\n",
              "      border: none;\n",
              "      border-radius: 50%;\n",
              "      cursor: pointer;\n",
              "      display: none;\n",
              "      fill: #1967D2;\n",
              "      height: 32px;\n",
              "      padding: 0 0 0 0;\n",
              "      width: 32px;\n",
              "    }\n",
              "\n",
              "    .colab-df-convert:hover {\n",
              "      background-color: #E2EBFA;\n",
              "      box-shadow: 0px 1px 2px rgba(60, 64, 67, 0.3), 0px 1px 3px 1px rgba(60, 64, 67, 0.15);\n",
              "      fill: #174EA6;\n",
              "    }\n",
              "\n",
              "    [theme=dark] .colab-df-convert {\n",
              "      background-color: #3B4455;\n",
              "      fill: #D2E3FC;\n",
              "    }\n",
              "\n",
              "    [theme=dark] .colab-df-convert:hover {\n",
              "      background-color: #434B5C;\n",
              "      box-shadow: 0px 1px 3px 1px rgba(0, 0, 0, 0.15);\n",
              "      filter: drop-shadow(0px 1px 2px rgba(0, 0, 0, 0.3));\n",
              "      fill: #FFFFFF;\n",
              "    }\n",
              "  </style>\n",
              "\n",
              "      <script>\n",
              "        const buttonEl =\n",
              "          document.querySelector('#df-26d3b3f1-13c5-4e86-a0d3-6262f40d034f button.colab-df-convert');\n",
              "        buttonEl.style.display =\n",
              "          google.colab.kernel.accessAllowed ? 'block' : 'none';\n",
              "\n",
              "        async function convertToInteractive(key) {\n",
              "          const element = document.querySelector('#df-26d3b3f1-13c5-4e86-a0d3-6262f40d034f');\n",
              "          const dataTable =\n",
              "            await google.colab.kernel.invokeFunction('convertToInteractive',\n",
              "                                                     [key], {});\n",
              "          if (!dataTable) return;\n",
              "\n",
              "          const docLinkHtml = 'Like what you see? Visit the ' +\n",
              "            '<a target=\"_blank\" href=https://colab.research.google.com/notebooks/data_table.ipynb>data table notebook</a>'\n",
              "            + ' to learn more about interactive tables.';\n",
              "          element.innerHTML = '';\n",
              "          dataTable['output_type'] = 'display_data';\n",
              "          await google.colab.output.renderOutput(dataTable, element);\n",
              "          const docLink = document.createElement('div');\n",
              "          docLink.innerHTML = docLinkHtml;\n",
              "          element.appendChild(docLink);\n",
              "        }\n",
              "      </script>\n",
              "    </div>\n",
              "  </div>\n",
              "  "
            ]
          },
          "metadata": {},
          "execution_count": 405
        }
      ]
    },
    {
      "cell_type": "markdown",
      "source": [
        "Ahora por defecto sería: "
      ],
      "metadata": {
        "id": "HHQpktyHyGed"
      }
    },
    {
      "cell_type": "code",
      "source": [
        "df.head()"
      ],
      "metadata": {
        "colab": {
          "base_uri": "https://localhost:8080/",
          "height": 206
        },
        "id": "gWeSc9hYyKzd",
        "outputId": "550c5ba9-cbb6-4a8e-a108-428ded367b76"
      },
      "execution_count": null,
      "outputs": [
        {
          "output_type": "execute_result",
          "data": {
            "text/plain": [
              "                                   Name Country  Sq Mi  Sq Km  \\\n",
              "0                   Bhadla Solar ParkQ@   India   21.0   54.4   \n",
              "1  Huanghe Hydropower Hainan Solar Park   China    2.2    5.7   \n",
              "2                   Pavagada Solar Park   India   20.3   52.6   \n",
              "3                    Benban Solar Park#   Egypt   14.4   37.3   \n",
              "4             Tengger Desert Solar Park   China   16.6   43.0   \n",
              "\n",
              "   MegawattsCapacity  Acres   yer  Type  \n",
              "0               2245  14000  2020  Park  \n",
              "1               2200   1408  2020  Park  \n",
              "2               2050  13000  2019  Park  \n",
              "3               1650   9216  2019  Park  \n",
              "4               1547  10625  2016  Park  "
            ],
            "text/html": [
              "\n",
              "  <div id=\"df-77272921-8e68-4ce8-b83c-c8afd73da7e8\">\n",
              "    <div class=\"colab-df-container\">\n",
              "      <div>\n",
              "<style scoped>\n",
              "    .dataframe tbody tr th:only-of-type {\n",
              "        vertical-align: middle;\n",
              "    }\n",
              "\n",
              "    .dataframe tbody tr th {\n",
              "        vertical-align: top;\n",
              "    }\n",
              "\n",
              "    .dataframe thead th {\n",
              "        text-align: right;\n",
              "    }\n",
              "</style>\n",
              "<table border=\"1\" class=\"dataframe\">\n",
              "  <thead>\n",
              "    <tr style=\"text-align: right;\">\n",
              "      <th></th>\n",
              "      <th>Name</th>\n",
              "      <th>Country</th>\n",
              "      <th>Sq Mi</th>\n",
              "      <th>Sq Km</th>\n",
              "      <th>MegawattsCapacity</th>\n",
              "      <th>Acres</th>\n",
              "      <th>yer</th>\n",
              "      <th>Type</th>\n",
              "    </tr>\n",
              "  </thead>\n",
              "  <tbody>\n",
              "    <tr>\n",
              "      <th>0</th>\n",
              "      <td>Bhadla Solar ParkQ@</td>\n",
              "      <td>India</td>\n",
              "      <td>21.0</td>\n",
              "      <td>54.4</td>\n",
              "      <td>2245</td>\n",
              "      <td>14000</td>\n",
              "      <td>2020</td>\n",
              "      <td>Park</td>\n",
              "    </tr>\n",
              "    <tr>\n",
              "      <th>1</th>\n",
              "      <td>Huanghe Hydropower Hainan Solar Park</td>\n",
              "      <td>China</td>\n",
              "      <td>2.2</td>\n",
              "      <td>5.7</td>\n",
              "      <td>2200</td>\n",
              "      <td>1408</td>\n",
              "      <td>2020</td>\n",
              "      <td>Park</td>\n",
              "    </tr>\n",
              "    <tr>\n",
              "      <th>2</th>\n",
              "      <td>Pavagada Solar Park</td>\n",
              "      <td>India</td>\n",
              "      <td>20.3</td>\n",
              "      <td>52.6</td>\n",
              "      <td>2050</td>\n",
              "      <td>13000</td>\n",
              "      <td>2019</td>\n",
              "      <td>Park</td>\n",
              "    </tr>\n",
              "    <tr>\n",
              "      <th>3</th>\n",
              "      <td>Benban Solar Park#</td>\n",
              "      <td>Egypt</td>\n",
              "      <td>14.4</td>\n",
              "      <td>37.3</td>\n",
              "      <td>1650</td>\n",
              "      <td>9216</td>\n",
              "      <td>2019</td>\n",
              "      <td>Park</td>\n",
              "    </tr>\n",
              "    <tr>\n",
              "      <th>4</th>\n",
              "      <td>Tengger Desert Solar Park</td>\n",
              "      <td>China</td>\n",
              "      <td>16.6</td>\n",
              "      <td>43.0</td>\n",
              "      <td>1547</td>\n",
              "      <td>10625</td>\n",
              "      <td>2016</td>\n",
              "      <td>Park</td>\n",
              "    </tr>\n",
              "  </tbody>\n",
              "</table>\n",
              "</div>\n",
              "      <button class=\"colab-df-convert\" onclick=\"convertToInteractive('df-77272921-8e68-4ce8-b83c-c8afd73da7e8')\"\n",
              "              title=\"Convert this dataframe to an interactive table.\"\n",
              "              style=\"display:none;\">\n",
              "        \n",
              "  <svg xmlns=\"http://www.w3.org/2000/svg\" height=\"24px\"viewBox=\"0 0 24 24\"\n",
              "       width=\"24px\">\n",
              "    <path d=\"M0 0h24v24H0V0z\" fill=\"none\"/>\n",
              "    <path d=\"M18.56 5.44l.94 2.06.94-2.06 2.06-.94-2.06-.94-.94-2.06-.94 2.06-2.06.94zm-11 1L8.5 8.5l.94-2.06 2.06-.94-2.06-.94L8.5 2.5l-.94 2.06-2.06.94zm10 10l.94 2.06.94-2.06 2.06-.94-2.06-.94-.94-2.06-.94 2.06-2.06.94z\"/><path d=\"M17.41 7.96l-1.37-1.37c-.4-.4-.92-.59-1.43-.59-.52 0-1.04.2-1.43.59L10.3 9.45l-7.72 7.72c-.78.78-.78 2.05 0 2.83L4 21.41c.39.39.9.59 1.41.59.51 0 1.02-.2 1.41-.59l7.78-7.78 2.81-2.81c.8-.78.8-2.07 0-2.86zM5.41 20L4 18.59l7.72-7.72 1.47 1.35L5.41 20z\"/>\n",
              "  </svg>\n",
              "      </button>\n",
              "      \n",
              "  <style>\n",
              "    .colab-df-container {\n",
              "      display:flex;\n",
              "      flex-wrap:wrap;\n",
              "      gap: 12px;\n",
              "    }\n",
              "\n",
              "    .colab-df-convert {\n",
              "      background-color: #E8F0FE;\n",
              "      border: none;\n",
              "      border-radius: 50%;\n",
              "      cursor: pointer;\n",
              "      display: none;\n",
              "      fill: #1967D2;\n",
              "      height: 32px;\n",
              "      padding: 0 0 0 0;\n",
              "      width: 32px;\n",
              "    }\n",
              "\n",
              "    .colab-df-convert:hover {\n",
              "      background-color: #E2EBFA;\n",
              "      box-shadow: 0px 1px 2px rgba(60, 64, 67, 0.3), 0px 1px 3px 1px rgba(60, 64, 67, 0.15);\n",
              "      fill: #174EA6;\n",
              "    }\n",
              "\n",
              "    [theme=dark] .colab-df-convert {\n",
              "      background-color: #3B4455;\n",
              "      fill: #D2E3FC;\n",
              "    }\n",
              "\n",
              "    [theme=dark] .colab-df-convert:hover {\n",
              "      background-color: #434B5C;\n",
              "      box-shadow: 0px 1px 3px 1px rgba(0, 0, 0, 0.15);\n",
              "      filter: drop-shadow(0px 1px 2px rgba(0, 0, 0, 0.3));\n",
              "      fill: #FFFFFF;\n",
              "    }\n",
              "  </style>\n",
              "\n",
              "      <script>\n",
              "        const buttonEl =\n",
              "          document.querySelector('#df-77272921-8e68-4ce8-b83c-c8afd73da7e8 button.colab-df-convert');\n",
              "        buttonEl.style.display =\n",
              "          google.colab.kernel.accessAllowed ? 'block' : 'none';\n",
              "\n",
              "        async function convertToInteractive(key) {\n",
              "          const element = document.querySelector('#df-77272921-8e68-4ce8-b83c-c8afd73da7e8');\n",
              "          const dataTable =\n",
              "            await google.colab.kernel.invokeFunction('convertToInteractive',\n",
              "                                                     [key], {});\n",
              "          if (!dataTable) return;\n",
              "\n",
              "          const docLinkHtml = 'Like what you see? Visit the ' +\n",
              "            '<a target=\"_blank\" href=https://colab.research.google.com/notebooks/data_table.ipynb>data table notebook</a>'\n",
              "            + ' to learn more about interactive tables.';\n",
              "          element.innerHTML = '';\n",
              "          dataTable['output_type'] = 'display_data';\n",
              "          await google.colab.output.renderOutput(dataTable, element);\n",
              "          const docLink = document.createElement('div');\n",
              "          docLink.innerHTML = docLinkHtml;\n",
              "          element.appendChild(docLink);\n",
              "        }\n",
              "      </script>\n",
              "    </div>\n",
              "  </div>\n",
              "  "
            ]
          },
          "metadata": {},
          "execution_count": 406
        }
      ]
    },
    {
      "cell_type": "markdown",
      "source": [
        "Ahora, si queremos conocer sólo las columnas de nuestro set ```.columns``` será el método adecuado:\n",
        "\n"
      ],
      "metadata": {
        "id": "hcV9N2oryhjF"
      }
    },
    {
      "cell_type": "code",
      "source": [
        "df.columns"
      ],
      "metadata": {
        "colab": {
          "base_uri": "https://localhost:8080/"
        },
        "id": "vUQrONGyAvdW",
        "outputId": "046f9aa6-345f-485f-9a7f-c7986d852704"
      },
      "execution_count": null,
      "outputs": [
        {
          "output_type": "execute_result",
          "data": {
            "text/plain": [
              "Index(['Name', 'Country', 'Sq Mi', 'Sq Km', 'MegawattsCapacity', 'Acres',\n",
              "       'yer', 'Type'],\n",
              "      dtype='object')"
            ]
          },
          "metadata": {},
          "execution_count": 407
        }
      ]
    },
    {
      "cell_type": "markdown",
      "source": [
        "Bueno, pero hemos notado que nuestro set en la columna *Name* hay unos caracteres como '@'y '#' que no hacen sentido en los nombres de las plantas solares. Por tanto, podemos usar ```.replace``` junto a una expresión regular (regex) para reemplazar estos datos con un vacío. lo cual se vería de la siguiente forma: \n",
        "\n"
      ],
      "metadata": {
        "id": "eGMMizKDy7eG"
      }
    },
    {
      "cell_type": "code",
      "source": [
        "df[\"Name\"] = df[\"Name\"].replace({'@':'', '#':''}, regex=True)"
      ],
      "metadata": {
        "id": "tL_2hPT0jkJQ"
      },
      "execution_count": null,
      "outputs": []
    },
    {
      "cell_type": "markdown",
      "source": [
        "Guardamos la columna *Name* dentro de la misma variable que representa al set, porque queremos que se sobreescriba y guarde esta modificación, y le ponemos *True* a la especificación del regex porque estamos usando una expresión de estas. En caso de no hacerlo, pondremos *False*.\n",
        "\n",
        "Ahora volvamos a ver el set y observar como desparecieron estos caracteres:"
      ],
      "metadata": {
        "id": "FjXpAet_zo6N"
      }
    },
    {
      "cell_type": "code",
      "source": [
        "df.head()"
      ],
      "metadata": {
        "colab": {
          "base_uri": "https://localhost:8080/",
          "height": 206
        },
        "id": "i115BExW261O",
        "outputId": "c8ddd7ae-4880-46a4-d84a-eb0cbee309a8"
      },
      "execution_count": null,
      "outputs": [
        {
          "output_type": "execute_result",
          "data": {
            "text/plain": [
              "                                   Name Country  Sq Mi  Sq Km  \\\n",
              "0                    Bhadla Solar ParkQ   India   21.0   54.4   \n",
              "1  Huanghe Hydropower Hainan Solar Park   China    2.2    5.7   \n",
              "2                   Pavagada Solar Park   India   20.3   52.6   \n",
              "3                     Benban Solar Park   Egypt   14.4   37.3   \n",
              "4             Tengger Desert Solar Park   China   16.6   43.0   \n",
              "\n",
              "   MegawattsCapacity  Acres   yer  Type  \n",
              "0               2245  14000  2020  Park  \n",
              "1               2200   1408  2020  Park  \n",
              "2               2050  13000  2019  Park  \n",
              "3               1650   9216  2019  Park  \n",
              "4               1547  10625  2016  Park  "
            ],
            "text/html": [
              "\n",
              "  <div id=\"df-1c7305d4-4344-4459-881d-55988f02e316\">\n",
              "    <div class=\"colab-df-container\">\n",
              "      <div>\n",
              "<style scoped>\n",
              "    .dataframe tbody tr th:only-of-type {\n",
              "        vertical-align: middle;\n",
              "    }\n",
              "\n",
              "    .dataframe tbody tr th {\n",
              "        vertical-align: top;\n",
              "    }\n",
              "\n",
              "    .dataframe thead th {\n",
              "        text-align: right;\n",
              "    }\n",
              "</style>\n",
              "<table border=\"1\" class=\"dataframe\">\n",
              "  <thead>\n",
              "    <tr style=\"text-align: right;\">\n",
              "      <th></th>\n",
              "      <th>Name</th>\n",
              "      <th>Country</th>\n",
              "      <th>Sq Mi</th>\n",
              "      <th>Sq Km</th>\n",
              "      <th>MegawattsCapacity</th>\n",
              "      <th>Acres</th>\n",
              "      <th>yer</th>\n",
              "      <th>Type</th>\n",
              "    </tr>\n",
              "  </thead>\n",
              "  <tbody>\n",
              "    <tr>\n",
              "      <th>0</th>\n",
              "      <td>Bhadla Solar ParkQ</td>\n",
              "      <td>India</td>\n",
              "      <td>21.0</td>\n",
              "      <td>54.4</td>\n",
              "      <td>2245</td>\n",
              "      <td>14000</td>\n",
              "      <td>2020</td>\n",
              "      <td>Park</td>\n",
              "    </tr>\n",
              "    <tr>\n",
              "      <th>1</th>\n",
              "      <td>Huanghe Hydropower Hainan Solar Park</td>\n",
              "      <td>China</td>\n",
              "      <td>2.2</td>\n",
              "      <td>5.7</td>\n",
              "      <td>2200</td>\n",
              "      <td>1408</td>\n",
              "      <td>2020</td>\n",
              "      <td>Park</td>\n",
              "    </tr>\n",
              "    <tr>\n",
              "      <th>2</th>\n",
              "      <td>Pavagada Solar Park</td>\n",
              "      <td>India</td>\n",
              "      <td>20.3</td>\n",
              "      <td>52.6</td>\n",
              "      <td>2050</td>\n",
              "      <td>13000</td>\n",
              "      <td>2019</td>\n",
              "      <td>Park</td>\n",
              "    </tr>\n",
              "    <tr>\n",
              "      <th>3</th>\n",
              "      <td>Benban Solar Park</td>\n",
              "      <td>Egypt</td>\n",
              "      <td>14.4</td>\n",
              "      <td>37.3</td>\n",
              "      <td>1650</td>\n",
              "      <td>9216</td>\n",
              "      <td>2019</td>\n",
              "      <td>Park</td>\n",
              "    </tr>\n",
              "    <tr>\n",
              "      <th>4</th>\n",
              "      <td>Tengger Desert Solar Park</td>\n",
              "      <td>China</td>\n",
              "      <td>16.6</td>\n",
              "      <td>43.0</td>\n",
              "      <td>1547</td>\n",
              "      <td>10625</td>\n",
              "      <td>2016</td>\n",
              "      <td>Park</td>\n",
              "    </tr>\n",
              "  </tbody>\n",
              "</table>\n",
              "</div>\n",
              "      <button class=\"colab-df-convert\" onclick=\"convertToInteractive('df-1c7305d4-4344-4459-881d-55988f02e316')\"\n",
              "              title=\"Convert this dataframe to an interactive table.\"\n",
              "              style=\"display:none;\">\n",
              "        \n",
              "  <svg xmlns=\"http://www.w3.org/2000/svg\" height=\"24px\"viewBox=\"0 0 24 24\"\n",
              "       width=\"24px\">\n",
              "    <path d=\"M0 0h24v24H0V0z\" fill=\"none\"/>\n",
              "    <path d=\"M18.56 5.44l.94 2.06.94-2.06 2.06-.94-2.06-.94-.94-2.06-.94 2.06-2.06.94zm-11 1L8.5 8.5l.94-2.06 2.06-.94-2.06-.94L8.5 2.5l-.94 2.06-2.06.94zm10 10l.94 2.06.94-2.06 2.06-.94-2.06-.94-.94-2.06-.94 2.06-2.06.94z\"/><path d=\"M17.41 7.96l-1.37-1.37c-.4-.4-.92-.59-1.43-.59-.52 0-1.04.2-1.43.59L10.3 9.45l-7.72 7.72c-.78.78-.78 2.05 0 2.83L4 21.41c.39.39.9.59 1.41.59.51 0 1.02-.2 1.41-.59l7.78-7.78 2.81-2.81c.8-.78.8-2.07 0-2.86zM5.41 20L4 18.59l7.72-7.72 1.47 1.35L5.41 20z\"/>\n",
              "  </svg>\n",
              "      </button>\n",
              "      \n",
              "  <style>\n",
              "    .colab-df-container {\n",
              "      display:flex;\n",
              "      flex-wrap:wrap;\n",
              "      gap: 12px;\n",
              "    }\n",
              "\n",
              "    .colab-df-convert {\n",
              "      background-color: #E8F0FE;\n",
              "      border: none;\n",
              "      border-radius: 50%;\n",
              "      cursor: pointer;\n",
              "      display: none;\n",
              "      fill: #1967D2;\n",
              "      height: 32px;\n",
              "      padding: 0 0 0 0;\n",
              "      width: 32px;\n",
              "    }\n",
              "\n",
              "    .colab-df-convert:hover {\n",
              "      background-color: #E2EBFA;\n",
              "      box-shadow: 0px 1px 2px rgba(60, 64, 67, 0.3), 0px 1px 3px 1px rgba(60, 64, 67, 0.15);\n",
              "      fill: #174EA6;\n",
              "    }\n",
              "\n",
              "    [theme=dark] .colab-df-convert {\n",
              "      background-color: #3B4455;\n",
              "      fill: #D2E3FC;\n",
              "    }\n",
              "\n",
              "    [theme=dark] .colab-df-convert:hover {\n",
              "      background-color: #434B5C;\n",
              "      box-shadow: 0px 1px 3px 1px rgba(0, 0, 0, 0.15);\n",
              "      filter: drop-shadow(0px 1px 2px rgba(0, 0, 0, 0.3));\n",
              "      fill: #FFFFFF;\n",
              "    }\n",
              "  </style>\n",
              "\n",
              "      <script>\n",
              "        const buttonEl =\n",
              "          document.querySelector('#df-1c7305d4-4344-4459-881d-55988f02e316 button.colab-df-convert');\n",
              "        buttonEl.style.display =\n",
              "          google.colab.kernel.accessAllowed ? 'block' : 'none';\n",
              "\n",
              "        async function convertToInteractive(key) {\n",
              "          const element = document.querySelector('#df-1c7305d4-4344-4459-881d-55988f02e316');\n",
              "          const dataTable =\n",
              "            await google.colab.kernel.invokeFunction('convertToInteractive',\n",
              "                                                     [key], {});\n",
              "          if (!dataTable) return;\n",
              "\n",
              "          const docLinkHtml = 'Like what you see? Visit the ' +\n",
              "            '<a target=\"_blank\" href=https://colab.research.google.com/notebooks/data_table.ipynb>data table notebook</a>'\n",
              "            + ' to learn more about interactive tables.';\n",
              "          element.innerHTML = '';\n",
              "          dataTable['output_type'] = 'display_data';\n",
              "          await google.colab.output.renderOutput(dataTable, element);\n",
              "          const docLink = document.createElement('div');\n",
              "          docLink.innerHTML = docLinkHtml;\n",
              "          element.appendChild(docLink);\n",
              "        }\n",
              "      </script>\n",
              "    </div>\n",
              "  </div>\n",
              "  "
            ]
          },
          "metadata": {},
          "execution_count": 409
        }
      ]
    },
    {
      "cell_type": "markdown",
      "source": [
        "Con este método .`shape` podremos ver primero el número de filas y luego el número de columnas. "
      ],
      "metadata": {
        "id": "VxZMt6mA_V_E"
      }
    },
    {
      "cell_type": "code",
      "source": [
        "df.shape"
      ],
      "metadata": {
        "colab": {
          "base_uri": "https://localhost:8080/"
        },
        "id": "nAcgp6c34I1X",
        "outputId": "8d3963aa-3c80-4f58-bcb7-e1b9fd9bda6a"
      },
      "execution_count": null,
      "outputs": [
        {
          "output_type": "execute_result",
          "data": {
            "text/plain": [
              "(22, 8)"
            ]
          },
          "metadata": {},
          "execution_count": 410
        }
      ]
    },
    {
      "cell_type": "markdown",
      "source": [
        "No obstante, con `.info` podremos ver la misma información anterior junto a los tipos de datos y tipo de valores. Es útil porque podemos verificar como se están leyendo nuestros datos y si hay algún dato nulo. "
      ],
      "metadata": {
        "id": "U9x9P-xS_f2m"
      }
    },
    {
      "cell_type": "code",
      "source": [
        "df.info()"
      ],
      "metadata": {
        "colab": {
          "base_uri": "https://localhost:8080/"
        },
        "id": "l1xy-81d5RJ4",
        "outputId": "cfabf9b6-bfb2-4922-8b35-ca99ebd0b1a4"
      },
      "execution_count": null,
      "outputs": [
        {
          "output_type": "stream",
          "name": "stdout",
          "text": [
            "<class 'pandas.core.frame.DataFrame'>\n",
            "RangeIndex: 22 entries, 0 to 21\n",
            "Data columns (total 8 columns):\n",
            " #   Column             Non-Null Count  Dtype  \n",
            "---  ------             --------------  -----  \n",
            " 0   Name               22 non-null     object \n",
            " 1   Country            22 non-null     object \n",
            " 2   Sq Mi              22 non-null     float64\n",
            " 3   Sq Km              22 non-null     float64\n",
            " 4   MegawattsCapacity  22 non-null     int64  \n",
            " 5   Acres              22 non-null     int64  \n",
            " 6   yer                22 non-null     int64  \n",
            " 7   Type               22 non-null     object \n",
            "dtypes: float64(2), int64(3), object(3)\n",
            "memory usage: 1.5+ KB\n"
          ]
        }
      ]
    },
    {
      "cell_type": "markdown",
      "source": [
        "Ahora. hemos notado que *'yer'* aún no es corregida por *'Year'*. Esta vez, usaremos el `.rename` que es para renombrar las columnas de nuestro data set. "
      ],
      "metadata": {
        "id": "CgYxR_vU_5Gt"
      }
    },
    {
      "cell_type": "code",
      "source": [
        "df.rename(columns = {'yer': 'Year'}, inplace=True)"
      ],
      "metadata": {
        "id": "oWlhTBqrRf-r"
      },
      "execution_count": null,
      "outputs": []
    },
    {
      "cell_type": "markdown",
      "source": [
        "y observemos como cambió:"
      ],
      "metadata": {
        "id": "Y45uXXLeAOZV"
      }
    },
    {
      "cell_type": "code",
      "source": [
        "df.head()"
      ],
      "metadata": {
        "colab": {
          "base_uri": "https://localhost:8080/",
          "height": 206
        },
        "id": "MH4fONrMTe4R",
        "outputId": "b6ddcf74-bc8f-4d89-90cd-a72102592fc4"
      },
      "execution_count": null,
      "outputs": [
        {
          "output_type": "execute_result",
          "data": {
            "text/plain": [
              "                                   Name Country  Sq Mi  Sq Km  \\\n",
              "0                    Bhadla Solar ParkQ   India   21.0   54.4   \n",
              "1  Huanghe Hydropower Hainan Solar Park   China    2.2    5.7   \n",
              "2                   Pavagada Solar Park   India   20.3   52.6   \n",
              "3                     Benban Solar Park   Egypt   14.4   37.3   \n",
              "4             Tengger Desert Solar Park   China   16.6   43.0   \n",
              "\n",
              "   MegawattsCapacity  Acres  Year  Type  \n",
              "0               2245  14000  2020  Park  \n",
              "1               2200   1408  2020  Park  \n",
              "2               2050  13000  2019  Park  \n",
              "3               1650   9216  2019  Park  \n",
              "4               1547  10625  2016  Park  "
            ],
            "text/html": [
              "\n",
              "  <div id=\"df-36e6f317-349e-4297-bc38-edbe5756cff1\">\n",
              "    <div class=\"colab-df-container\">\n",
              "      <div>\n",
              "<style scoped>\n",
              "    .dataframe tbody tr th:only-of-type {\n",
              "        vertical-align: middle;\n",
              "    }\n",
              "\n",
              "    .dataframe tbody tr th {\n",
              "        vertical-align: top;\n",
              "    }\n",
              "\n",
              "    .dataframe thead th {\n",
              "        text-align: right;\n",
              "    }\n",
              "</style>\n",
              "<table border=\"1\" class=\"dataframe\">\n",
              "  <thead>\n",
              "    <tr style=\"text-align: right;\">\n",
              "      <th></th>\n",
              "      <th>Name</th>\n",
              "      <th>Country</th>\n",
              "      <th>Sq Mi</th>\n",
              "      <th>Sq Km</th>\n",
              "      <th>MegawattsCapacity</th>\n",
              "      <th>Acres</th>\n",
              "      <th>Year</th>\n",
              "      <th>Type</th>\n",
              "    </tr>\n",
              "  </thead>\n",
              "  <tbody>\n",
              "    <tr>\n",
              "      <th>0</th>\n",
              "      <td>Bhadla Solar ParkQ</td>\n",
              "      <td>India</td>\n",
              "      <td>21.0</td>\n",
              "      <td>54.4</td>\n",
              "      <td>2245</td>\n",
              "      <td>14000</td>\n",
              "      <td>2020</td>\n",
              "      <td>Park</td>\n",
              "    </tr>\n",
              "    <tr>\n",
              "      <th>1</th>\n",
              "      <td>Huanghe Hydropower Hainan Solar Park</td>\n",
              "      <td>China</td>\n",
              "      <td>2.2</td>\n",
              "      <td>5.7</td>\n",
              "      <td>2200</td>\n",
              "      <td>1408</td>\n",
              "      <td>2020</td>\n",
              "      <td>Park</td>\n",
              "    </tr>\n",
              "    <tr>\n",
              "      <th>2</th>\n",
              "      <td>Pavagada Solar Park</td>\n",
              "      <td>India</td>\n",
              "      <td>20.3</td>\n",
              "      <td>52.6</td>\n",
              "      <td>2050</td>\n",
              "      <td>13000</td>\n",
              "      <td>2019</td>\n",
              "      <td>Park</td>\n",
              "    </tr>\n",
              "    <tr>\n",
              "      <th>3</th>\n",
              "      <td>Benban Solar Park</td>\n",
              "      <td>Egypt</td>\n",
              "      <td>14.4</td>\n",
              "      <td>37.3</td>\n",
              "      <td>1650</td>\n",
              "      <td>9216</td>\n",
              "      <td>2019</td>\n",
              "      <td>Park</td>\n",
              "    </tr>\n",
              "    <tr>\n",
              "      <th>4</th>\n",
              "      <td>Tengger Desert Solar Park</td>\n",
              "      <td>China</td>\n",
              "      <td>16.6</td>\n",
              "      <td>43.0</td>\n",
              "      <td>1547</td>\n",
              "      <td>10625</td>\n",
              "      <td>2016</td>\n",
              "      <td>Park</td>\n",
              "    </tr>\n",
              "  </tbody>\n",
              "</table>\n",
              "</div>\n",
              "      <button class=\"colab-df-convert\" onclick=\"convertToInteractive('df-36e6f317-349e-4297-bc38-edbe5756cff1')\"\n",
              "              title=\"Convert this dataframe to an interactive table.\"\n",
              "              style=\"display:none;\">\n",
              "        \n",
              "  <svg xmlns=\"http://www.w3.org/2000/svg\" height=\"24px\"viewBox=\"0 0 24 24\"\n",
              "       width=\"24px\">\n",
              "    <path d=\"M0 0h24v24H0V0z\" fill=\"none\"/>\n",
              "    <path d=\"M18.56 5.44l.94 2.06.94-2.06 2.06-.94-2.06-.94-.94-2.06-.94 2.06-2.06.94zm-11 1L8.5 8.5l.94-2.06 2.06-.94-2.06-.94L8.5 2.5l-.94 2.06-2.06.94zm10 10l.94 2.06.94-2.06 2.06-.94-2.06-.94-.94-2.06-.94 2.06-2.06.94z\"/><path d=\"M17.41 7.96l-1.37-1.37c-.4-.4-.92-.59-1.43-.59-.52 0-1.04.2-1.43.59L10.3 9.45l-7.72 7.72c-.78.78-.78 2.05 0 2.83L4 21.41c.39.39.9.59 1.41.59.51 0 1.02-.2 1.41-.59l7.78-7.78 2.81-2.81c.8-.78.8-2.07 0-2.86zM5.41 20L4 18.59l7.72-7.72 1.47 1.35L5.41 20z\"/>\n",
              "  </svg>\n",
              "      </button>\n",
              "      \n",
              "  <style>\n",
              "    .colab-df-container {\n",
              "      display:flex;\n",
              "      flex-wrap:wrap;\n",
              "      gap: 12px;\n",
              "    }\n",
              "\n",
              "    .colab-df-convert {\n",
              "      background-color: #E8F0FE;\n",
              "      border: none;\n",
              "      border-radius: 50%;\n",
              "      cursor: pointer;\n",
              "      display: none;\n",
              "      fill: #1967D2;\n",
              "      height: 32px;\n",
              "      padding: 0 0 0 0;\n",
              "      width: 32px;\n",
              "    }\n",
              "\n",
              "    .colab-df-convert:hover {\n",
              "      background-color: #E2EBFA;\n",
              "      box-shadow: 0px 1px 2px rgba(60, 64, 67, 0.3), 0px 1px 3px 1px rgba(60, 64, 67, 0.15);\n",
              "      fill: #174EA6;\n",
              "    }\n",
              "\n",
              "    [theme=dark] .colab-df-convert {\n",
              "      background-color: #3B4455;\n",
              "      fill: #D2E3FC;\n",
              "    }\n",
              "\n",
              "    [theme=dark] .colab-df-convert:hover {\n",
              "      background-color: #434B5C;\n",
              "      box-shadow: 0px 1px 3px 1px rgba(0, 0, 0, 0.15);\n",
              "      filter: drop-shadow(0px 1px 2px rgba(0, 0, 0, 0.3));\n",
              "      fill: #FFFFFF;\n",
              "    }\n",
              "  </style>\n",
              "\n",
              "      <script>\n",
              "        const buttonEl =\n",
              "          document.querySelector('#df-36e6f317-349e-4297-bc38-edbe5756cff1 button.colab-df-convert');\n",
              "        buttonEl.style.display =\n",
              "          google.colab.kernel.accessAllowed ? 'block' : 'none';\n",
              "\n",
              "        async function convertToInteractive(key) {\n",
              "          const element = document.querySelector('#df-36e6f317-349e-4297-bc38-edbe5756cff1');\n",
              "          const dataTable =\n",
              "            await google.colab.kernel.invokeFunction('convertToInteractive',\n",
              "                                                     [key], {});\n",
              "          if (!dataTable) return;\n",
              "\n",
              "          const docLinkHtml = 'Like what you see? Visit the ' +\n",
              "            '<a target=\"_blank\" href=https://colab.research.google.com/notebooks/data_table.ipynb>data table notebook</a>'\n",
              "            + ' to learn more about interactive tables.';\n",
              "          element.innerHTML = '';\n",
              "          dataTable['output_type'] = 'display_data';\n",
              "          await google.colab.output.renderOutput(dataTable, element);\n",
              "          const docLink = document.createElement('div');\n",
              "          docLink.innerHTML = docLinkHtml;\n",
              "          element.appendChild(docLink);\n",
              "        }\n",
              "      </script>\n",
              "    </div>\n",
              "  </div>\n",
              "  "
            ]
          },
          "metadata": {},
          "execution_count": 414
        }
      ]
    },
    {
      "cell_type": "markdown",
      "source": [
        "Ahora, podemos tener datos duplicados, es decir, idénticos, plantas solares con los mismos datos. Para corregir esto podemos verificar con `.shape` cuantos datos habian, eliminar los duplicados con `.drop_duplicates` con `implace=True` reescribir el dataset con este cambio, y finalmente con .shape volver a verificar cuantas filas quedaron:"
      ],
      "metadata": {
        "id": "cBF7t3RdAaW2"
      }
    },
    {
      "cell_type": "code",
      "source": [
        "#Eliminar filas  de datos identicos en todas las columnas\n",
        "print(f\"Tamaño del data set antes de elimar filas repetidas: {df.shape}\")\n",
        "df.drop_duplicates(inplace=True)\n",
        "print(f\"Tamaño del data set después de eliminar filas repetidas: {df.shape}\")\n"
      ],
      "metadata": {
        "colab": {
          "base_uri": "https://localhost:8080/"
        },
        "id": "P4M0Lzy0pZxd",
        "outputId": "4881f0fd-c423-4e5f-be6c-a05a4b132ea3"
      },
      "execution_count": null,
      "outputs": [
        {
          "output_type": "stream",
          "name": "stdout",
          "text": [
            "Tamaño del data set antes de elimar filas repetidas: (22, 8)\n",
            "Tamaño del data set después de eliminar filas repetidas: (20, 8)\n"
          ]
        }
      ]
    },
    {
      "cell_type": "markdown",
      "source": [],
      "metadata": {
        "id": "GBtZYQ0IBqht"
      }
    },
    {
      "cell_type": "markdown",
      "source": [
        "Efectivamente, habían dos filas con datos idénticos. "
      ],
      "metadata": {
        "id": "oeddm4LvA8jc"
      }
    },
    {
      "cell_type": "markdown",
      "source": [
        "Ahora podemos observar en las *columnas categóricas* (de tipo String), cuántos tipos de categorías hay por cada columna, es decir, cuántos paises diferentes, o tipos de plantas solares distintos se encuentran . Para ellos primero separamos en una variabble las columnas categóricas, luego con un for y el método `.nunique()`, nos muestra el resultado."
      ],
      "metadata": {
        "id": "_Ngv46_5BGTD"
      }
    },
    {
      "cell_type": "code",
      "source": [
        "# Tipos de categorías en columnas tipo categóricas\n",
        "columns_cat = ['Name', 'Country', 'Type']\n",
        "for column in columns_cat:\n",
        "  print(f'Columna {column}: {df[column].nunique()} categorías')"
      ],
      "metadata": {
        "colab": {
          "base_uri": "https://localhost:8080/"
        },
        "id": "25jrcOFXmm4X",
        "outputId": "83ebd53b-8a2b-4805-a05c-88768f0094a7"
      },
      "execution_count": null,
      "outputs": [
        {
          "output_type": "stream",
          "name": "stdout",
          "text": [
            "Columna Name: 20 categorías\n",
            "Columna Country: 9 categorías\n",
            "Columna Type: 5 categorías\n"
          ]
        }
      ]
    },
    {
      "cell_type": "markdown",
      "source": [
        "Sabiendo esto, será suficiente para descartar que no haya ninguna categoría repetida? Lo mejor será gráficar, esta vez con seaborn(librería) y evidenciar de manera más visual si hay algo que corregir en estas columnas. "
      ],
      "metadata": {
        "id": "F9_JbP_6Bvaj"
      }
    },
    {
      "cell_type": "markdown",
      "source": [
        "Pasamos los parámetros de dimensión del gráfico y el espaciado. Luego con un for recorremos las columnas dentro de `columns_cat` y aplicamos el método de graficación de conteo en barras."
      ],
      "metadata": {
        "id": "QbTrwvpKCFJ7"
      }
    },
    {
      "cell_type": "code",
      "source": [
        "fig, ax = plt.subplots(nrows=3, ncols=1, figsize=(8,22))\n",
        "fig.subplots_adjust(hspace=0.5)\n",
        "\n",
        "for i, column in enumerate(columns_cat):\n",
        "  sns.countplot(x=column, data=df, ax=ax[i])\n",
        "  ax[i].set_title(column)\n",
        "  ax[i].set_xticklabels(ax[i].get_xticklabels(),rotation=30)"
      ],
      "metadata": {
        "colab": {
          "base_uri": "https://localhost:8080/",
          "height": 1000
        },
        "outputId": "58e1b98a-b190-4287-ed67-0e76d914a6b4",
        "id": "ksO7r0crs59G"
      },
      "execution_count": null,
      "outputs": [
        {
          "output_type": "display_data",
          "data": {
            "text/plain": [
              "<Figure size 576x1584 with 3 Axes>"
            ],
            "image/png": "[encoded data removed]"
          },
          "metadata": {
            "needs_background": "light"
          }
        }
      ]
    },
    {
      "cell_type": "markdown",
      "source": [
        "Encontramos que hay datos repetidos tanto porque están escritos diferente en cuánto a mayúscula y miníscula, y otros por formas de abreviación. Para el caso de las mayúsculas y minísculas, podemos pasar todos los datos a miniscula mediante el método de manipulación de strings `.str.lower()`, con un for de igual manera, pues ya tenemos nuestras columnas categóricas en una variable. "
      ],
      "metadata": {
        "id": "3zCk1zgwCq5D"
      }
    },
    {
      "cell_type": "code",
      "source": [
        "for column in columns_cat:\n",
        "  df[column] = df[column].str.lower() "
      ],
      "metadata": {
        "id": "8jgqUtNKrJsn"
      },
      "execution_count": null,
      "outputs": []
    },
    {
      "cell_type": "markdown",
      "source": [
        "Volvemos a graficar y evidenciamos los cambios. Ahora *park* e *india* están en minisculas y agrupados en el mismo conteo. "
      ],
      "metadata": {
        "id": "AZdJSlCIDTKU"
      }
    },
    {
      "cell_type": "code",
      "source": [
        "fig, ax = plt.subplots(nrows=3, ncols=1, figsize=(8,22))\n",
        "fig.subplots_adjust(hspace=0.5)\n",
        "\n",
        "for i, column in enumerate(columns_cat):\n",
        "  sns.countplot(x=column, data=df, ax=ax[i])\n",
        "  ax[i].set_title(column)\n",
        "  ax[i].set_xticklabels(ax[i].get_xticklabels(),rotation=30)"
      ],
      "metadata": {
        "colab": {
          "base_uri": "https://localhost:8080/",
          "height": 1000
        },
        "id": "Qs_Zfn5UrtkN",
        "outputId": "90456201-2ced-4001-e6f6-03830ece8481"
      },
      "execution_count": null,
      "outputs": [
        {
          "output_type": "display_data",
          "data": {
            "text/plain": [
              "<Figure size 576x1584 with 3 Axes>"
            ],
            "image/png": "[encoded data removed]"
          },
          "metadata": {
            "needs_background": "light"
          }
        }
      ]
    },
    {
      "cell_type": "markdown",
      "source": [
        "Ahora veamos cómo disminuyeron las categorías que eran tomadas como dobles al tener diferentes escrituras con miniscula y mayúscula:"
      ],
      "metadata": {
        "id": "QImuNEAlttJt"
      }
    },
    {
      "cell_type": "code",
      "source": [
        "# Tipos de categorías en columnas tipo categóricas después de limpieza tipográfica\n",
        "columns_cat = ['Name', 'Country', 'Type']\n",
        "for column in columns_cat:\n",
        "  print(f'Columna {column}: {df[column].nunique()} categorías')"
      ],
      "metadata": {
        "colab": {
          "base_uri": "https://localhost:8080/"
        },
        "outputId": "7025c495-7f22-48c6-f42a-027435761b4e",
        "id": "RqLSaQPBtj6a"
      },
      "execution_count": null,
      "outputs": [
        {
          "output_type": "stream",
          "name": "stdout",
          "text": [
            "Columna Name: 20 categorías\n",
            "Columna Country: 8 categorías\n",
            "Columna Type: 4 categorías\n"
          ]
        }
      ]
    },
    {
      "cell_type": "markdown",
      "source": [
        "Sin embargo... siguen existiendo duplicados de origen tipógrafico, resulta que *'usa'* es también *'united states'*. Por tanto, usaremos ahora el mismo `.replace.`"
      ],
      "metadata": {
        "id": "ivc36Xl81H_t"
      }
    },
    {
      "cell_type": "code",
      "source": [
        "df[\"Country\"] = df[\"Country\"].replace({'united states':'usa'}, regex=True)"
      ],
      "metadata": {
        "id": "kMxsiFuX1nm9"
      },
      "execution_count": null,
      "outputs": []
    },
    {
      "cell_type": "markdown",
      "source": [
        "Grafiquemos de nuevo y veriquemos que no estará repetido nuevamente: "
      ],
      "metadata": {
        "id": "pMOxA78g2Q19"
      }
    },
    {
      "cell_type": "code",
      "source": [
        "fig, ax = plt.subplots(nrows=3, ncols=1, figsize=(8,22))\n",
        "fig.subplots_adjust(hspace=0.5)\n",
        "\n",
        "for i, column in enumerate(columns_cat):\n",
        "  sns.countplot(x=column, data=df, ax=ax[i])\n",
        "  ax[i].set_title(column)\n",
        "  ax[i].set_xticklabels(ax[i].get_xticklabels(),rotation=30)"
      ],
      "metadata": {
        "colab": {
          "base_uri": "https://localhost:8080/",
          "height": 1000
        },
        "outputId": "ba49e341-e736-4cac-9f10-53849a087f3e",
        "id": "1PktsVat2RwM"
      },
      "execution_count": null,
      "outputs": [
        {
          "output_type": "display_data",
          "data": {
            "text/plain": [
              "<Figure size 576x1584 with 3 Axes>"
            ],
            "image/png": "[encoded data removed]"
          },
          "metadata": {
            "needs_background": "light"
          }
        }
      ]
    },
    {
      "cell_type": "markdown",
      "source": [
        "Muy bien, ahora sí veamos cuántas categorías por columna quedaron al final y si coinciden con la última gráfica actualizada de arriba: "
      ],
      "metadata": {
        "id": "n0KAB6De3KEH"
      }
    },
    {
      "cell_type": "code",
      "source": [
        "columns_cat = ['Name', 'Country', 'Type']\n",
        "for column in columns_cat:\n",
        "  print(f'Columna {column}: {df[column].nunique()} categorías')"
      ],
      "metadata": {
        "colab": {
          "base_uri": "https://localhost:8080/"
        },
        "id": "EzIhDrFW3JlN",
        "outputId": "a3b8b235-1b80-41f4-a305-3403e9f2ef75"
      },
      "execution_count": null,
      "outputs": [
        {
          "output_type": "stream",
          "name": "stdout",
          "text": [
            "Columna Name: 20 categorías\n",
            "Columna Country: 7 categorías\n",
            "Columna Type: 4 categorías\n"
          ]
        }
      ]
    },
    {
      "cell_type": "markdown",
      "source": [
        "Perfecto, hemos terminado nuestra limpieza de datos categóricos o de texto. Ahora... podemos ver aquellos datos atípicos en los datos de tipo número."
      ],
      "metadata": {
        "id": "5-pdC1zB3g6X"
      }
    },
    {
      "cell_type": "markdown",
      "source": [
        "Con `.describe` podemos ver datos estadísticos principales sobre las columnas de tipo númerico "
      ],
      "metadata": {
        "id": "KRnSX-Dbt_3H"
      }
    },
    {
      "cell_type": "code",
      "source": [
        "df.describe()"
      ],
      "metadata": {
        "colab": {
          "base_uri": "https://localhost:8080/",
          "height": 300
        },
        "id": "4LVSecMPoGUu",
        "outputId": "461202e0-8660-44e3-9e5b-76dba9914286"
      },
      "execution_count": null,
      "outputs": [
        {
          "output_type": "execute_result",
          "data": {
            "text/plain": [
              "           Sq Mi      Sq Km  MegawattsCapacity         Acres         Year\n",
              "count  20.000000  20.000000          20.000000     20.000000    20.000000\n",
              "mean    9.935000  27.540000        1110.950000   6394.050000  2017.600000\n",
              "std     7.399735  18.794887         532.657437   4776.909786     2.326054\n",
              "min     1.900000   5.700000         550.000000   1245.000000  2012.000000\n",
              "25%     4.725000  15.075000         780.000000   3025.000000  2016.000000\n",
              "50%     8.450000  24.500000         914.000000   5426.000000  2018.000000\n",
              "75%    12.600000  38.200000        1269.500000   8064.000000  2019.250000\n",
              "max    30.000000  77.700000        2245.000000  19200.000000  2021.000000"
            ],
            "text/html": [
              "\n",
              "  <div id=\"df-e89a1ac1-fc4f-4b3e-812b-e0c75b6a69f1\">\n",
              "    <div class=\"colab-df-container\">\n",
              "      <div>\n",
              "<style scoped>\n",
              "    .dataframe tbody tr th:only-of-type {\n",
              "        vertical-align: middle;\n",
              "    }\n",
              "\n",
              "    .dataframe tbody tr th {\n",
              "        vertical-align: top;\n",
              "    }\n",
              "\n",
              "    .dataframe thead th {\n",
              "        text-align: right;\n",
              "    }\n",
              "</style>\n",
              "<table border=\"1\" class=\"dataframe\">\n",
              "  <thead>\n",
              "    <tr style=\"text-align: right;\">\n",
              "      <th></th>\n",
              "      <th>Sq Mi</th>\n",
              "      <th>Sq Km</th>\n",
              "      <th>MegawattsCapacity</th>\n",
              "      <th>Acres</th>\n",
              "      <th>Year</th>\n",
              "    </tr>\n",
              "  </thead>\n",
              "  <tbody>\n",
              "    <tr>\n",
              "      <th>count</th>\n",
              "      <td>20.000000</td>\n",
              "      <td>20.000000</td>\n",
              "      <td>20.000000</td>\n",
              "      <td>20.000000</td>\n",
              "      <td>20.000000</td>\n",
              "    </tr>\n",
              "    <tr>\n",
              "      <th>mean</th>\n",
              "      <td>9.935000</td>\n",
              "      <td>27.540000</td>\n",
              "      <td>1110.950000</td>\n",
              "      <td>6394.050000</td>\n",
              "      <td>2017.600000</td>\n",
              "    </tr>\n",
              "    <tr>\n",
              "      <th>std</th>\n",
              "      <td>7.399735</td>\n",
              "      <td>18.794887</td>\n",
              "      <td>532.657437</td>\n",
              "      <td>4776.909786</td>\n",
              "      <td>2.326054</td>\n",
              "    </tr>\n",
              "    <tr>\n",
              "      <th>min</th>\n",
              "      <td>1.900000</td>\n",
              "      <td>5.700000</td>\n",
              "      <td>550.000000</td>\n",
              "      <td>1245.000000</td>\n",
              "      <td>2012.000000</td>\n",
              "    </tr>\n",
              "    <tr>\n",
              "      <th>25%</th>\n",
              "      <td>4.725000</td>\n",
              "      <td>15.075000</td>\n",
              "      <td>780.000000</td>\n",
              "      <td>3025.000000</td>\n",
              "      <td>2016.000000</td>\n",
              "    </tr>\n",
              "    <tr>\n",
              "      <th>50%</th>\n",
              "      <td>8.450000</td>\n",
              "      <td>24.500000</td>\n",
              "      <td>914.000000</td>\n",
              "      <td>5426.000000</td>\n",
              "      <td>2018.000000</td>\n",
              "    </tr>\n",
              "    <tr>\n",
              "      <th>75%</th>\n",
              "      <td>12.600000</td>\n",
              "      <td>38.200000</td>\n",
              "      <td>1269.500000</td>\n",
              "      <td>8064.000000</td>\n",
              "      <td>2019.250000</td>\n",
              "    </tr>\n",
              "    <tr>\n",
              "      <th>max</th>\n",
              "      <td>30.000000</td>\n",
              "      <td>77.700000</td>\n",
              "      <td>2245.000000</td>\n",
              "      <td>19200.000000</td>\n",
              "      <td>2021.000000</td>\n",
              "    </tr>\n",
              "  </tbody>\n",
              "</table>\n",
              "</div>\n",
              "      <button class=\"colab-df-convert\" onclick=\"convertToInteractive('df-e89a1ac1-fc4f-4b3e-812b-e0c75b6a69f1')\"\n",
              "              title=\"Convert this dataframe to an interactive table.\"\n",
              "              style=\"display:none;\">\n",
              "        \n",
              "  <svg xmlns=\"http://www.w3.org/2000/svg\" height=\"24px\"viewBox=\"0 0 24 24\"\n",
              "       width=\"24px\">\n",
              "    <path d=\"M0 0h24v24H0V0z\" fill=\"none\"/>\n",
              "    <path d=\"M18.56 5.44l.94 2.06.94-2.06 2.06-.94-2.06-.94-.94-2.06-.94 2.06-2.06.94zm-11 1L8.5 8.5l.94-2.06 2.06-.94-2.06-.94L8.5 2.5l-.94 2.06-2.06.94zm10 10l.94 2.06.94-2.06 2.06-.94-2.06-.94-.94-2.06-.94 2.06-2.06.94z\"/><path d=\"M17.41 7.96l-1.37-1.37c-.4-.4-.92-.59-1.43-.59-.52 0-1.04.2-1.43.59L10.3 9.45l-7.72 7.72c-.78.78-.78 2.05 0 2.83L4 21.41c.39.39.9.59 1.41.59.51 0 1.02-.2 1.41-.59l7.78-7.78 2.81-2.81c.8-.78.8-2.07 0-2.86zM5.41 20L4 18.59l7.72-7.72 1.47 1.35L5.41 20z\"/>\n",
              "  </svg>\n",
              "      </button>\n",
              "      \n",
              "  <style>\n",
              "    .colab-df-container {\n",
              "      display:flex;\n",
              "      flex-wrap:wrap;\n",
              "      gap: 12px;\n",
              "    }\n",
              "\n",
              "    .colab-df-convert {\n",
              "      background-color: #E8F0FE;\n",
              "      border: none;\n",
              "      border-radius: 50%;\n",
              "      cursor: pointer;\n",
              "      display: none;\n",
              "      fill: #1967D2;\n",
              "      height: 32px;\n",
              "      padding: 0 0 0 0;\n",
              "      width: 32px;\n",
              "    }\n",
              "\n",
              "    .colab-df-convert:hover {\n",
              "      background-color: #E2EBFA;\n",
              "      box-shadow: 0px 1px 2px rgba(60, 64, 67, 0.3), 0px 1px 3px 1px rgba(60, 64, 67, 0.15);\n",
              "      fill: #174EA6;\n",
              "    }\n",
              "\n",
              "    [theme=dark] .colab-df-convert {\n",
              "      background-color: #3B4455;\n",
              "      fill: #D2E3FC;\n",
              "    }\n",
              "\n",
              "    [theme=dark] .colab-df-convert:hover {\n",
              "      background-color: #434B5C;\n",
              "      box-shadow: 0px 1px 3px 1px rgba(0, 0, 0, 0.15);\n",
              "      filter: drop-shadow(0px 1px 2px rgba(0, 0, 0, 0.3));\n",
              "      fill: #FFFFFF;\n",
              "    }\n",
              "  </style>\n",
              "\n",
              "      <script>\n",
              "        const buttonEl =\n",
              "          document.querySelector('#df-e89a1ac1-fc4f-4b3e-812b-e0c75b6a69f1 button.colab-df-convert');\n",
              "        buttonEl.style.display =\n",
              "          google.colab.kernel.accessAllowed ? 'block' : 'none';\n",
              "\n",
              "        async function convertToInteractive(key) {\n",
              "          const element = document.querySelector('#df-e89a1ac1-fc4f-4b3e-812b-e0c75b6a69f1');\n",
              "          const dataTable =\n",
              "            await google.colab.kernel.invokeFunction('convertToInteractive',\n",
              "                                                     [key], {});\n",
              "          if (!dataTable) return;\n",
              "\n",
              "          const docLinkHtml = 'Like what you see? Visit the ' +\n",
              "            '<a target=\"_blank\" href=https://colab.research.google.com/notebooks/data_table.ipynb>data table notebook</a>'\n",
              "            + ' to learn more about interactive tables.';\n",
              "          element.innerHTML = '';\n",
              "          dataTable['output_type'] = 'display_data';\n",
              "          await google.colab.output.renderOutput(dataTable, element);\n",
              "          const docLink = document.createElement('div');\n",
              "          docLink.innerHTML = docLinkHtml;\n",
              "          element.appendChild(docLink);\n",
              "        }\n",
              "      </script>\n",
              "    </div>\n",
              "  </div>\n",
              "  "
            ]
          },
          "metadata": {},
          "execution_count": 424
        }
      ]
    },
    {
      "cell_type": "markdown",
      "source": [
        "Una forma de observar que no haya un solo tipo de dato en una columna, es observar la desviación estándar, si está en 0, significa que tenemos un solo valor en esta columna. Sin embargo, en este caso podemos observar que no es así. \n",
        "\n",
        "Ahora, para entender de forma más concreta si se encuentra un dato atípico en los datos de tipo númerico del dataset, podemos también graficar con la librería *seaborn* que importamos y evidenciar los datos cuestionables en nuestro set. \n",
        "\n",
        "Primero guardaremos en una variable las columnas de tipo numerico, y así luego usaremos la librería"
      ],
      "metadata": {
        "id": "LlyVCody3vls"
      }
    },
    {
      "cell_type": "code",
      "source": [
        "# Generar gráficas individuales pues las variables numéricas\n",
        "# están en rangos diferentes\n",
        "columns_num = ['Sq Km', 'Year', 'MegawattsCapacity', 'Acres', 'Sq Mi']\n",
        "\n",
        "fig, ax = plt.subplots(nrows=5, ncols=1, figsize=(8,25))\n",
        "fig.subplots_adjust(hspace=0.5)\n",
        "\n",
        "for i, column in enumerate(columns_num):\n",
        "    sns.boxplot(x=column, data=df, ax=ax[i])\n",
        "    ax[i].set_title(column)"
      ],
      "metadata": {
        "colab": {
          "base_uri": "https://localhost:8080/",
          "height": 1000
        },
        "id": "QhiHlPFV0I02",
        "outputId": "9e613d46-a2d0-4625-d6df-f5a92c7331d7"
      },
      "execution_count": null,
      "outputs": [
        {
          "output_type": "display_data",
          "data": {
            "text/plain": [
              "<Figure size 576x1800 with 5 Axes>"
            ],
            "image/png": "[encoded data removed]"
          },
          "metadata": {
            "needs_background": "light"
          }
        }
      ]
    },
    {
      "cell_type": "markdown",
      "source": [
        "En este caso, aunque hay datos que se ubican por fuera del gráfico de caja, puede ser perfectamente posible que hayan plantas solares con mayor capacidad y con mayor extensión, pues la diferencia no es descomunal ni alocada frente a la mayoría."
      ],
      "metadata": {
        "id": "siIqffkH_A9M"
      }
    },
    {
      "cell_type": "markdown",
      "source": [
        "En caso de que si existan valores atípicos, por ejemplo si existe un año como el *2091* en nuestro columna *Year*, que no es posible que exista tal información porque aún no hemos llegado a este año. Podemos inferir que a lo mejor buscaban ingresar el 2019, y reemplazar este dato (ya sabes con `.replace`). Como analista, debemos tratar de conservar la información e investigar si es posible corregir y reemplazar estos datos erroneos en el dataset, pues en el resto de columnas puede haber información que si sea de utilidad. \n",
        "\n",
        "Pero si finalmnete no es posible corregir esta información, y tenemos otros datos suficientes  para hacer el análisis. Podemos eliminarlo usando un código condicional y guardando los cambios en el mismo dataset y columna: \n",
        "\n",
        "\n",
        "```\n",
        "print(f'Tamaño del set antes de eliminar registros de edad: {df.shape}')\n",
        "df = df[df['Year']<=2023]\n",
        "print(f'Tamaño del set después de eliminar registros de edad: {df.shape}')\n",
        "```\n",
        "\n",
        "\n"
      ],
      "metadata": {
        "id": "_G3QZ1BVDsVb"
      }
    },
    {
      "cell_type": "markdown",
      "source": [
        "Puedes practicar con otros datasets. También estudiar sobre otras cosas que se pueden hacer para graficar con **Seaborn** o con **Maplotlib**. "
      ],
      "metadata": {
        "id": "Z8duJrInFSBN"
      }
    },
    {
      "cell_type": "markdown",
      "source": [
        "Desarrollado por: Lina Paola Perdomo @linapaper"
      ],
      "metadata": {
        "id": "0P3lzPLlHh-N"
      }
    }
  ]
}